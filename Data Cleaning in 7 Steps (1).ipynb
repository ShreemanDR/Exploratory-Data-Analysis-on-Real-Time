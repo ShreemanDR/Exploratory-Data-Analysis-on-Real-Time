{
 "cells": [
  {
   "cell_type": "markdown",
   "id": "6b4422b6-de4c-4d61-9266-f0099459d823",
   "metadata": {},
   "source": [
    "# 7 Steps to Data Cleaning :  "
   ]
  },
  {
   "cell_type": "markdown",
   "id": "6684867a-a5d2-49a6-8b20-bdeef6a78ff0",
   "metadata": {},
   "source": [
    "## Step 0 - Understand the business question/problem that you are trying to solve"
   ]
  },
  {
   "cell_type": "code",
   "execution_count": null,
   "id": "9cbedca8-c585-499b-9df6-62480bf09724",
   "metadata": {},
   "outputs": [],
   "source": [
    "import pandas as pd\n",
    "df=pd.pd.DataFrame(data) # Create dataframe"
   ]
  },
  {
   "cell_type": "markdown",
   "id": "31af286a-38ed-4217-a342-065f5f0407f1",
   "metadata": {},
   "source": [
    "## Step 1 - Understanding the Data"
   ]
  },
  {
   "cell_type": "code",
   "execution_count": null,
   "id": "c829b862-c121-4aec-b528-cbc96458fa51",
   "metadata": {},
   "outputs": [],
   "source": [
    "# getting some basic information on the different fields and\n",
    "# the total number of records,\n",
    "# inspecting the head of the dataframe."
   ]
  },
  {
   "cell_type": "code",
   "execution_count": 20,
   "id": "5c29a2c0-9805-41d9-b733-06920d0480c5",
   "metadata": {},
   "outputs": [
    {
     "name": "stdout",
     "output_type": "stream",
     "text": [
      "<class 'pandas.core.frame.DataFrame'>\n",
      "RangeIndex: 1100 entries, 0 to 1099\n",
      "Data columns (total 9 columns):\n",
      " #   Column             Non-Null Count  Dtype \n",
      "---  ------             --------------  ----- \n",
      " 0   Name               1100 non-null   object\n",
      " 1   Age                1100 non-null   int64 \n",
      " 2   Email              1046 non-null   object\n",
      " 3   Phone              1100 non-null   object\n",
      " 4   Address            1100 non-null   object\n",
      " 5   Salary             1100 non-null   int64 \n",
      " 6   Join_Date          1100 non-null   object\n",
      " 7   Employment_Status  1100 non-null   object\n",
      " 8   Department         1100 non-null   object\n",
      "dtypes: int64(2), object(7)\n",
      "memory usage: 77.5+ KB\n"
     ]
    }
   ],
   "source": [
    "df.info()"
   ]
  },
  {
   "cell_type": "code",
   "execution_count": 21,
   "id": "fb2a6768-0cec-4b0c-8c95-25686690dfdb",
   "metadata": {},
   "outputs": [
    {
     "data": {
      "text/html": [
       "<div>\n",
       "<style scoped>\n",
       "    .dataframe tbody tr th:only-of-type {\n",
       "        vertical-align: middle;\n",
       "    }\n",
       "\n",
       "    .dataframe tbody tr th {\n",
       "        vertical-align: top;\n",
       "    }\n",
       "\n",
       "    .dataframe thead th {\n",
       "        text-align: right;\n",
       "    }\n",
       "</style>\n",
       "<table border=\"1\" class=\"dataframe\">\n",
       "  <thead>\n",
       "    <tr style=\"text-align: right;\">\n",
       "      <th></th>\n",
       "      <th>Name</th>\n",
       "      <th>Age</th>\n",
       "      <th>Email</th>\n",
       "      <th>Phone</th>\n",
       "      <th>Address</th>\n",
       "      <th>Salary</th>\n",
       "      <th>Join_Date</th>\n",
       "      <th>Employment_Status</th>\n",
       "      <th>Department</th>\n",
       "    </tr>\n",
       "  </thead>\n",
       "  <tbody>\n",
       "    <tr>\n",
       "      <th>0</th>\n",
       "      <td>Allison Hill</td>\n",
       "      <td>19</td>\n",
       "      <td>donaldgarcia@example.net</td>\n",
       "      <td>+1-219-560-0133</td>\n",
       "      <td>79402 Peterson Drives Apt. 511\\nDavisstad, PA ...</td>\n",
       "      <td>58092</td>\n",
       "      <td>2020-05-14</td>\n",
       "      <td>Contract</td>\n",
       "      <td>Engineering</td>\n",
       "    </tr>\n",
       "    <tr>\n",
       "      <th>1</th>\n",
       "      <td>Kimberly Dudley</td>\n",
       "      <td>37</td>\n",
       "      <td>smiller@example.net</td>\n",
       "      <td>+1-659-931-0341x316</td>\n",
       "      <td>55341 Amanda Gardens Apt. 764\\nLake Mark, WI 0...</td>\n",
       "      <td>22665</td>\n",
       "      <td>2021-12-12</td>\n",
       "      <td>Contract</td>\n",
       "      <td>IT</td>\n",
       "    </tr>\n",
       "    <tr>\n",
       "      <th>2</th>\n",
       "      <td>Renee Morales</td>\n",
       "      <td>60</td>\n",
       "      <td>clarksherri@example.net</td>\n",
       "      <td>837-767-2423x88496</td>\n",
       "      <td>710 Eric Estate\\nCarlsonfurt, MS 78605</td>\n",
       "      <td>64133</td>\n",
       "      <td>2023-12-25</td>\n",
       "      <td>Part-Time</td>\n",
       "      <td>Finance</td>\n",
       "    </tr>\n",
       "    <tr>\n",
       "      <th>3</th>\n",
       "      <td>Tricia Valencia</td>\n",
       "      <td>50</td>\n",
       "      <td>frazierdanny@example.net</td>\n",
       "      <td>001-645-514-6270x48281</td>\n",
       "      <td>809 Burns Creek\\nNatashaport, IA 08093</td>\n",
       "      <td>129940</td>\n",
       "      <td>2022-01-18</td>\n",
       "      <td>Part-Time</td>\n",
       "      <td>Finance</td>\n",
       "    </tr>\n",
       "    <tr>\n",
       "      <th>4</th>\n",
       "      <td>Theresa Miller</td>\n",
       "      <td>68</td>\n",
       "      <td>wcabrera@example.net</td>\n",
       "      <td>001-822-778-2489x63834</td>\n",
       "      <td>33150 Brianna Avenue Apt. 031\\nPort Markhaven,...</td>\n",
       "      <td>44328</td>\n",
       "      <td>2024-02-17</td>\n",
       "      <td>Contract</td>\n",
       "      <td>IT</td>\n",
       "    </tr>\n",
       "  </tbody>\n",
       "</table>\n",
       "</div>"
      ],
      "text/plain": [
       "              Name  Age                     Email                   Phone  \\\n",
       "0     Allison Hill   19  donaldgarcia@example.net         +1-219-560-0133   \n",
       "1  Kimberly Dudley   37       smiller@example.net     +1-659-931-0341x316   \n",
       "2    Renee Morales   60   clarksherri@example.net      837-767-2423x88496   \n",
       "3  Tricia Valencia   50  frazierdanny@example.net  001-645-514-6270x48281   \n",
       "4   Theresa Miller   68      wcabrera@example.net  001-822-778-2489x63834   \n",
       "\n",
       "                                             Address  Salary   Join_Date  \\\n",
       "0  79402 Peterson Drives Apt. 511\\nDavisstad, PA ...   58092  2020-05-14   \n",
       "1  55341 Amanda Gardens Apt. 764\\nLake Mark, WI 0...   22665  2021-12-12   \n",
       "2             710 Eric Estate\\nCarlsonfurt, MS 78605   64133  2023-12-25   \n",
       "3             809 Burns Creek\\nNatashaport, IA 08093  129940  2022-01-18   \n",
       "4  33150 Brianna Avenue Apt. 031\\nPort Markhaven,...   44328  2024-02-17   \n",
       "\n",
       "  Employment_Status   Department  \n",
       "0          Contract  Engineering  \n",
       "1          Contract           IT  \n",
       "2         Part-Time      Finance  \n",
       "3         Part-Time      Finance  \n",
       "4          Contract           IT  "
      ]
     },
     "execution_count": 21,
     "metadata": {},
     "output_type": "execute_result"
    }
   ],
   "source": [
    "df.head()"
   ]
  },
  {
   "cell_type": "markdown",
   "id": "a7570d83-e9d0-4cc5-941a-5701ce2647b7",
   "metadata": {},
   "source": [
    "## Step 2 - Handling Duplicates"
   ]
  },
  {
   "cell_type": "code",
   "execution_count": 22,
   "id": "4d0b8364-926c-4be7-9339-20a0fa5a1a34",
   "metadata": {},
   "outputs": [
    {
     "name": "stdout",
     "output_type": "stream",
     "text": [
      "Number of duplicate rows: 100\n"
     ]
    }
   ],
   "source": [
    "# Check for duplicate rows\n",
    "duplicates = df.duplicated().sum()\n",
    "print(\"Number of duplicate rows:\", duplicates)"
   ]
  },
  {
   "cell_type": "code",
   "execution_count": 23,
   "id": "7c9f7771-bbfa-4251-b123-e27456916b83",
   "metadata": {},
   "outputs": [],
   "source": [
    "# Removing duplicate rows\n",
    "df.drop_duplicates(inplace=True)"
   ]
  },
  {
   "cell_type": "markdown",
   "id": "4d7879a4-97bf-4b0e-b44c-c51ee385ed07",
   "metadata": {},
   "source": [
    "## Step 3 - Handling Missing Data\n",
    " "
   ]
  },
  {
   "cell_type": "code",
   "execution_count": 24,
   "id": "a43b5bbc-3245-4c7f-bdd9-df6790587ca6",
   "metadata": {},
   "outputs": [
    {
     "name": "stdout",
     "output_type": "stream",
     "text": [
      "Missing Values:\n",
      "Name                  0\n",
      "Age                   0\n",
      "Email                50\n",
      "Phone                 0\n",
      "Address               0\n",
      "Salary                0\n",
      "Join_Date             0\n",
      "Employment_Status     0\n",
      "Department            0\n",
      "dtype: int64\n"
     ]
    }
   ],
   "source": [
    "# Check for missing values\n",
    "missing_values = df.isna().sum()\n",
    "print(\"Missing Values:\")\n",
    "print(missing_values)"
   ]
  },
  {
   "cell_type": "code",
   "execution_count": 25,
   "id": "2711724a-b7eb-4649-8266-1e3d6283e45a",
   "metadata": {},
   "outputs": [
    {
     "name": "stdout",
     "output_type": "stream",
     "text": [
      "Missing Values:\n",
      "Name                  0\n",
      "Age                   0\n",
      "Email                50\n",
      "Phone                 0\n",
      "Address               0\n",
      "Salary                0\n",
      "Join_Date             0\n",
      "Employment_Status     0\n",
      "Department            0\n",
      "dtype: int64\n"
     ]
    }
   ],
   "source": [
    "# Check for missing values\n",
    "missing_values = df.isna().sum()\n",
    "print(\"Missing Values:\")\n",
    "print(missing_values)"
   ]
  },
  {
   "cell_type": "markdown",
   "id": "ebbcdbad-7e51-41e9-af09-1a0f78d842e6",
   "metadata": {},
   "source": [
    "## Step 4 - Transforming Data"
   ]
  },
  {
   "cell_type": "code",
   "execution_count": 26,
   "id": "ad76b04d-b72a-48f1-a91a-ec318057ecb2",
   "metadata": {},
   "outputs": [
    {
     "name": "stdout",
     "output_type": "stream",
     "text": [
      "Join_Date after conversion:\n",
      "0   2020-05-14\n",
      "1   2021-12-12\n",
      "2   2023-12-25\n",
      "3   2022-01-18\n",
      "4   2024-02-17\n",
      "Name: Join_Date, dtype: datetime64[ns]\n"
     ]
    }
   ],
   "source": [
    "# Convert 'Join_Date' to datetime\n",
    "df['Join_Date'] = pd.to_datetime(df['Join_Date'])\n",
    "print(\"Join_Date after conversion:\")\n",
    "print(df['Join_Date'].head())"
   ]
  },
  {
   "cell_type": "code",
   "execution_count": 27,
   "id": "cee95ab1-ad3c-4a72-be69-330cecbebe04",
   "metadata": {},
   "outputs": [
    {
     "name": "stdout",
     "output_type": "stream",
     "text": [
      "New feature 'Years_Employed':\n",
      "   Join_Date  Years_Employed\n",
      "0 2020-05-14               4\n",
      "1 2021-12-12               3\n",
      "2 2023-12-25               1\n",
      "3 2022-01-18               2\n",
      "4 2024-02-17               0\n"
     ]
    }
   ],
   "source": [
    "# Creating a new column/feature 'Years_Employed' based on 'Join_Date'\n",
    "df['Years_Employed'] = pd.Timestamp.now().year - df['Join_Date'].dt.year\n",
    "print(\"New feature 'Years_Employed':\")\n",
    "print(df[['Join_Date', 'Years_Employed']].head())"
   ]
  },
  {
   "cell_type": "markdown",
   "id": "c0f45e79-d088-457f-804f-c8b586d1c54f",
   "metadata": {},
   "source": [
    "## Step 5 - Cleaning Text Data"
   ]
  },
  {
   "cell_type": "code",
   "execution_count": 28,
   "id": "489ba8a4-b92f-479c-8fc8-134d0841f0c5",
   "metadata": {},
   "outputs": [
    {
     "name": "stdout",
     "output_type": "stream",
     "text": [
      "Address after text cleaning:\n",
      "0    79402 Peterson Drives Apt. 511 Davisstad, PA 3...\n",
      "1    55341 Amanda Gardens Apt. 764 Lake Mark, WI 07832\n",
      "2                710 Eric Estate Carlsonfurt, MS 78605\n",
      "3                809 Burns Creek Natashaport, IA 08093\n",
      "4    33150 Brianna Avenue Apt. 031 Port Markhaven, ...\n",
      "Name: Address, dtype: object\n"
     ]
    }
   ],
   "source": [
    "# Clean address strings\n",
    "df['Address'] = df['Address'].str.replace('\\n', ' ', regex=False)\n",
    "print(\"Address after text cleaning:\")\n",
    "print(df['Address'].head())"
   ]
  },
  {
   "cell_type": "markdown",
   "id": "c214df43-ff6c-4ec1-9611-963859e34058",
   "metadata": {},
   "source": [
    "## Step 6 - Handling Outliers"
   ]
  },
  {
   "cell_type": "markdown",
   "id": "fc447554-240a-44d5-8e8b-c749a2c0175f",
   "metadata": {},
   "source": [
    "### >> For Numerical Data"
   ]
  },
  {
   "cell_type": "code",
   "execution_count": 29,
   "id": "51261d4e-9e8d-4fcd-a836-4585e460da12",
   "metadata": {},
   "outputs": [
    {
     "name": "stdout",
     "output_type": "stream",
     "text": [
      "Outliers based on Salary:\n",
      "                  Name  Salary\n",
      "17   Raymond Jefferson  251672\n",
      "41       Douglas Reyes  284540\n",
      "87    Jennifer Johnson  454876\n",
      "149       Becky Wilson  302985\n",
      "220       Patrick Hart  282744\n"
     ]
    }
   ],
   "source": [
    "# Detecting outliers using z-score\n",
    "z_scores = (df['Salary'] - df['Salary'].mean()) / df['Salary'].std()\n",
    "outliers = df[abs(z_scores) > 3]\n",
    "print(\"Outliers based on Salary:\")\n",
    "print(outliers[['Name', 'Salary']].head())"
   ]
  },
  {
   "cell_type": "markdown",
   "id": "a1d25810-b117-47b0-99bf-b712ff88b223",
   "metadata": {},
   "source": [
    "## Step 7 - Merging Data"
   ]
  },
  {
   "cell_type": "raw",
   "id": "60e80a1a-851e-4bd2-ab55-0b58eb3b7844",
   "metadata": {},
   "source": [
    "'''In most projects, the data that you have may not be the data you’ll want to use for analysis.\n",
    "You have to find the most relevant fields to use and also merge data from other dataframes to get\n",
    "more useful data that you can use for analysis.'''"
   ]
  },
  {
   "cell_type": "raw",
   "id": "842f8fd6-7816-48f3-931a-ab5e74544d23",
   "metadata": {},
   "source": [
    "'''Create another related dataframe and merge it with the existing dataframe on a common column \n",
    "such that the merge makes sense. Merging in pandas works very similarly to joins in SQL.'''"
   ]
  },
  {
   "cell_type": "markdown",
   "id": "393a8f2a-0d0a-427c-9aed-b95c2b0a174c",
   "metadata": {},
   "source": [
    "# [The Data for this Data Cleaning Process Source]"
   ]
  },
  {
   "cell_type": "code",
   "execution_count": null,
   "id": "db4ba99f-b52e-4cb5-b304-eedcb729f77a",
   "metadata": {},
   "outputs": [],
   "source": [
    "!pip install Faker"
   ]
  },
  {
   "cell_type": "code",
   "execution_count": null,
   "id": "8c2aa1cc-d7b8-461f-8bda-41e0ba84ff21",
   "metadata": {},
   "outputs": [],
   "source": [
    "import pandas as pd\n",
    "from faker import Faker\n",
    "import random\n",
    "\n",
    "# Initialize Faker to generate synthetic data\n",
    "fake = Faker()\n",
    "\n",
    "# Set seed for reproducibility\n",
    "Faker.seed(42)\n",
    "\n",
    "# Generate synthetic data\n",
    "data = []\n",
    "for _ in range(1000):\n",
    "    data.append({\n",
    "        'Name': fake.name(),\n",
    "        'Age': random.randint(18, 70),\n",
    "        'Email': fake.email(),\n",
    "        'Phone': fake.phone_number(),\n",
    "        'Address': fake.address(),\n",
    "        'Salary': random.randint(20000, 150000),\n",
    "        'Join_Date': fake.date_this_decade(),\n",
    "        'Employment_Status': random.choice(['Full-Time', 'Part-Time', 'Contract']),\n",
    "        'Department': random.choice(['IT', 'Engineering','Finance', 'HR', 'Marketing'])\n",
    "    })"
   ]
  },
  {
   "cell_type": "code",
   "execution_count": null,
   "id": "1f45a9e3-75df-4a79-b2ef-1c749283fd98",
   "metadata": {},
   "outputs": [],
   "source": [
    "# Let's tweak the records a bit!\n",
    "# Introduce missing values\n",
    "for i in random.sample(range(len(data)), 50):\n",
    "    data[i]['Email'] = None\n",
    "\n",
    "# Introduce duplicate records\n",
    "data.extend(random.sample(data, 100))\n",
    "\n",
    "# Introduce outliers\n",
    "for i in random.sample(range(len(data)), 20):\n",
    "    data[i]['Salary'] = random.randint(200000, 500000)"
   ]
  },
  {
   "cell_type": "code",
   "execution_count": null,
   "id": "0054edc3-eabd-4974-ad77-d9c6afed842a",
   "metadata": {},
   "outputs": [],
   "source": [
    "# Create dataframe\n",
    "df = pd.DataFrame(data)"
   ]
  },
  {
   "cell_type": "code",
   "execution_count": null,
   "id": "766fcd3b-cf87-4396-92d5-b0fb96708c86",
   "metadata": {},
   "outputs": [],
   "source": []
  }
 ],
 "metadata": {
  "kernelspec": {
   "display_name": "Python 3 (ipykernel)",
   "language": "python",
   "name": "python3"
  },
  "language_info": {
   "codemirror_mode": {
    "name": "ipython",
    "version": 3
   },
   "file_extension": ".py",
   "mimetype": "text/x-python",
   "name": "python",
   "nbconvert_exporter": "python",
   "pygments_lexer": "ipython3",
   "version": "3.11.7"
  }
 },
 "nbformat": 4,
 "nbformat_minor": 5
}
